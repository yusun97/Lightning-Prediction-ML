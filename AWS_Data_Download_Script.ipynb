{
 "cells": [
  {
   "cell_type": "markdown",
   "metadata": {},
   "source": [
    "## Download Data from AWS S3 Bucket"
   ]
  },
  {
   "cell_type": "markdown",
   "metadata": {},
   "source": [
    "This notebook is used to download NOAA Multi-Radar/Multi-Sensor System (MRMS) data from AWS S3 bucket."
   ]
  },
  {
   "cell_type": "code",
   "execution_count": 1,
   "metadata": {},
   "outputs": [],
   "source": [
    "# import libraries\n",
    "import boto3\n",
    "import os\n",
    "from datetime import datetime, timedelta\n",
    "from botocore import UNSIGNED\n",
    "from botocore.client import Config"
   ]
  },
  {
   "cell_type": "code",
   "execution_count": 2,
   "metadata": {},
   "outputs": [],
   "source": [
    "# List all files in a folder in an S3 bucket\n",
    "def list_files_in_folder(bucket_name, folder_name):\n",
    "    s3 = boto3.client('s3', config=Config(signature_version=UNSIGNED), region_name='us-east-1')\n",
    "    paginator = s3.get_paginator('list_objects_v2')\n",
    "    pages = paginator.paginate(Bucket=bucket_name, Prefix=folder_name)\n",
    "    \n",
    "    # Get all the files in the folder\n",
    "    file_keys = []\n",
    "    for page in pages:\n",
    "        if 'Contents' in page:\n",
    "            for obj in page['Contents']:\n",
    "                file_keys.append(obj['Key'])\n",
    "    return file_keys"
   ]
  },
  {
   "cell_type": "code",
   "execution_count": 3,
   "metadata": {},
   "outputs": [],
   "source": [
    "# Download all files in a folder in an S3 bucket\n",
    "def download_files_from_folder(bucket_name, folder_name, local_folder):\n",
    "    s3 = boto3.client('s3', config=Config(signature_version=UNSIGNED), region_name='us-east-1')\n",
    "    file_keys = list_files_in_folder(bucket_name, folder_name)\n",
    "    \n",
    "    # Check if there are any files in the folder\n",
    "    if not file_keys:\n",
    "        print(f\"No data available for {folder_name.split('/')[-2]}.\")\n",
    "        return\n",
    "\n",
    "    # Create local folder if it doesn't exist\n",
    "    if not os.path.exists(local_folder):\n",
    "        os.makedirs(local_folder)\n",
    "    \n",
    "    # Download all files\n",
    "    for key in file_keys:\n",
    "        if key.endswith('.grib2.gz'):\n",
    "            file_name = os.path.join(local_folder, key.split('/')[-1])\n",
    "            s3.download_file(bucket_name, key, file_name)\n",
    "            print(f\"Downloaded {key} to {file_name}\")"
   ]
  },
  {
   "cell_type": "code",
   "execution_count": 4,
   "metadata": {},
   "outputs": [],
   "source": [
    "# Download all files in a folder in an S3 bucket within a date range\n",
    "def download_files_in_date_range(bucket_name, data_type, start_date_str, end_date_str):\n",
    "    start_date = datetime.strptime(start_date_str, '%Y%m%d')\n",
    "    end_date = datetime.strptime(end_date_str, '%Y%m%d')\n",
    "\n",
    "    # make sure start_date is not after end_date\n",
    "    if start_date > end_date:\n",
    "        print(\"Error: start_date should not be after end_date.\")\n",
    "        return\n",
    "\n",
    "    # Loop through the date range and download files for each date\n",
    "    def daterange(start_date, end_date):\n",
    "        for n in range(int((end_date - start_date).days) + 1):\n",
    "            yield start_date + timedelta(n)\n",
    "\n",
    "    for single_date in daterange(start_date, end_date):\n",
    "        date_str = single_date.strftime('%Y%m%d')\n",
    "        folder_name = f'CONUS/{data_type}/{date_str}/'\n",
    "        local_folder = f'{data_type}/{date_str}'  # Use the date and data_type variables for the local folder name\n",
    "\n",
    "        print(f\"Downloading files for {data_type} on {date_str}...\")\n",
    "        download_files_from_folder(bucket_name, folder_name, local_folder)\n",
    "        print(f\"Completed downloading files for {data_type} on {date_str}.\\n\")"
   ]
  },
  {
   "cell_type": "code",
   "execution_count": 5,
   "metadata": {},
   "outputs": [],
   "source": [
    "# Parameters\n",
    "bucket_name = 'noaa-mrms-pds'\n",
    "data_type = 'MergedBaseReflectivity_00.50'  # Specify the data type\n",
    "start_date_str = '20201013'  # Specify the start date\n",
    "end_date_str = '20201014'  # Specify the end date"
   ]
  },
  {
   "cell_type": "code",
   "execution_count": 6,
   "metadata": {},
   "outputs": [
    {
     "name": "stdout",
     "output_type": "stream",
     "text": [
      "Downloading files for MergedBaseReflectivity_00.50 on 20201013...\n",
      "No data available for 20201013.\n",
      "Completed downloading files for MergedBaseReflectivity_00.50 on 20201013.\n",
      "\n",
      "Downloading files for MergedBaseReflectivity_00.50 on 20201014...\n",
      "Downloaded CONUS/MergedBaseReflectivity_00.50/20201014/MRMS_MergedBaseReflectivity_00.50_20201014-211615.grib2.gz to MergedBaseReflectivity_00.50/20201014/MRMS_MergedBaseReflectivity_00.50_20201014-211615.grib2.gz\n",
      "Downloaded CONUS/MergedBaseReflectivity_00.50/20201014/MRMS_MergedBaseReflectivity_00.50_20201014-211819.grib2.gz to MergedBaseReflectivity_00.50/20201014/MRMS_MergedBaseReflectivity_00.50_20201014-211819.grib2.gz\n",
      "Downloaded CONUS/MergedBaseReflectivity_00.50/20201014/MRMS_MergedBaseReflectivity_00.50_20201014-212007.grib2.gz to MergedBaseReflectivity_00.50/20201014/MRMS_MergedBaseReflectivity_00.50_20201014-212007.grib2.gz\n",
      "Downloaded CONUS/MergedBaseReflectivity_00.50/20201014/MRMS_MergedBaseReflectivity_00.50_20201014-212228.grib2.gz to MergedBaseReflectivity_00.50/20201014/MRMS_MergedBaseReflectivity_00.50_20201014-212228.grib2.gz\n",
      "Downloaded CONUS/MergedBaseReflectivity_00.50/20201014/MRMS_MergedBaseReflectivity_00.50_20201014-212405.grib2.gz to MergedBaseReflectivity_00.50/20201014/MRMS_MergedBaseReflectivity_00.50_20201014-212405.grib2.gz\n",
      "Downloaded CONUS/MergedBaseReflectivity_00.50/20201014/MRMS_MergedBaseReflectivity_00.50_20201014-212619.grib2.gz to MergedBaseReflectivity_00.50/20201014/MRMS_MergedBaseReflectivity_00.50_20201014-212619.grib2.gz\n",
      "Downloaded CONUS/MergedBaseReflectivity_00.50/20201014/MRMS_MergedBaseReflectivity_00.50_20201014-212808.grib2.gz to MergedBaseReflectivity_00.50/20201014/MRMS_MergedBaseReflectivity_00.50_20201014-212808.grib2.gz\n",
      "Downloaded CONUS/MergedBaseReflectivity_00.50/20201014/MRMS_MergedBaseReflectivity_00.50_20201014-213013.grib2.gz to MergedBaseReflectivity_00.50/20201014/MRMS_MergedBaseReflectivity_00.50_20201014-213013.grib2.gz\n",
      "Downloaded CONUS/MergedBaseReflectivity_00.50/20201014/MRMS_MergedBaseReflectivity_00.50_20201014-213222.grib2.gz to MergedBaseReflectivity_00.50/20201014/MRMS_MergedBaseReflectivity_00.50_20201014-213222.grib2.gz\n",
      "Downloaded CONUS/MergedBaseReflectivity_00.50/20201014/MRMS_MergedBaseReflectivity_00.50_20201014-213400.grib2.gz to MergedBaseReflectivity_00.50/20201014/MRMS_MergedBaseReflectivity_00.50_20201014-213400.grib2.gz\n",
      "Downloaded CONUS/MergedBaseReflectivity_00.50/20201014/MRMS_MergedBaseReflectivity_00.50_20201014-213604.grib2.gz to MergedBaseReflectivity_00.50/20201014/MRMS_MergedBaseReflectivity_00.50_20201014-213604.grib2.gz\n",
      "Downloaded CONUS/MergedBaseReflectivity_00.50/20201014/MRMS_MergedBaseReflectivity_00.50_20201014-213819.grib2.gz to MergedBaseReflectivity_00.50/20201014/MRMS_MergedBaseReflectivity_00.50_20201014-213819.grib2.gz\n",
      "Downloaded CONUS/MergedBaseReflectivity_00.50/20201014/MRMS_MergedBaseReflectivity_00.50_20201014-214027.grib2.gz to MergedBaseReflectivity_00.50/20201014/MRMS_MergedBaseReflectivity_00.50_20201014-214027.grib2.gz\n",
      "Downloaded CONUS/MergedBaseReflectivity_00.50/20201014/MRMS_MergedBaseReflectivity_00.50_20201014-214207.grib2.gz to MergedBaseReflectivity_00.50/20201014/MRMS_MergedBaseReflectivity_00.50_20201014-214207.grib2.gz\n",
      "Downloaded CONUS/MergedBaseReflectivity_00.50/20201014/MRMS_MergedBaseReflectivity_00.50_20201014-214405.grib2.gz to MergedBaseReflectivity_00.50/20201014/MRMS_MergedBaseReflectivity_00.50_20201014-214405.grib2.gz\n",
      "Downloaded CONUS/MergedBaseReflectivity_00.50/20201014/MRMS_MergedBaseReflectivity_00.50_20201014-214615.grib2.gz to MergedBaseReflectivity_00.50/20201014/MRMS_MergedBaseReflectivity_00.50_20201014-214615.grib2.gz\n",
      "Downloaded CONUS/MergedBaseReflectivity_00.50/20201014/MRMS_MergedBaseReflectivity_00.50_20201014-214811.grib2.gz to MergedBaseReflectivity_00.50/20201014/MRMS_MergedBaseReflectivity_00.50_20201014-214811.grib2.gz\n",
      "Downloaded CONUS/MergedBaseReflectivity_00.50/20201014/MRMS_MergedBaseReflectivity_00.50_20201014-215014.grib2.gz to MergedBaseReflectivity_00.50/20201014/MRMS_MergedBaseReflectivity_00.50_20201014-215014.grib2.gz\n",
      "Downloaded CONUS/MergedBaseReflectivity_00.50/20201014/MRMS_MergedBaseReflectivity_00.50_20201014-215154.grib2.gz to MergedBaseReflectivity_00.50/20201014/MRMS_MergedBaseReflectivity_00.50_20201014-215154.grib2.gz\n",
      "Downloaded CONUS/MergedBaseReflectivity_00.50/20201014/MRMS_MergedBaseReflectivity_00.50_20201014-215426.grib2.gz to MergedBaseReflectivity_00.50/20201014/MRMS_MergedBaseReflectivity_00.50_20201014-215426.grib2.gz\n",
      "Downloaded CONUS/MergedBaseReflectivity_00.50/20201014/MRMS_MergedBaseReflectivity_00.50_20201014-215609.grib2.gz to MergedBaseReflectivity_00.50/20201014/MRMS_MergedBaseReflectivity_00.50_20201014-215609.grib2.gz\n",
      "Downloaded CONUS/MergedBaseReflectivity_00.50/20201014/MRMS_MergedBaseReflectivity_00.50_20201014-215829.grib2.gz to MergedBaseReflectivity_00.50/20201014/MRMS_MergedBaseReflectivity_00.50_20201014-215829.grib2.gz\n",
      "Downloaded CONUS/MergedBaseReflectivity_00.50/20201014/MRMS_MergedBaseReflectivity_00.50_20201014-220012.grib2.gz to MergedBaseReflectivity_00.50/20201014/MRMS_MergedBaseReflectivity_00.50_20201014-220012.grib2.gz\n",
      "Downloaded CONUS/MergedBaseReflectivity_00.50/20201014/MRMS_MergedBaseReflectivity_00.50_20201014-220226.grib2.gz to MergedBaseReflectivity_00.50/20201014/MRMS_MergedBaseReflectivity_00.50_20201014-220226.grib2.gz\n",
      "Downloaded CONUS/MergedBaseReflectivity_00.50/20201014/MRMS_MergedBaseReflectivity_00.50_20201014-220412.grib2.gz to MergedBaseReflectivity_00.50/20201014/MRMS_MergedBaseReflectivity_00.50_20201014-220412.grib2.gz\n",
      "Downloaded CONUS/MergedBaseReflectivity_00.50/20201014/MRMS_MergedBaseReflectivity_00.50_20201014-220558.grib2.gz to MergedBaseReflectivity_00.50/20201014/MRMS_MergedBaseReflectivity_00.50_20201014-220558.grib2.gz\n",
      "Downloaded CONUS/MergedBaseReflectivity_00.50/20201014/MRMS_MergedBaseReflectivity_00.50_20201014-220817.grib2.gz to MergedBaseReflectivity_00.50/20201014/MRMS_MergedBaseReflectivity_00.50_20201014-220817.grib2.gz\n",
      "Downloaded CONUS/MergedBaseReflectivity_00.50/20201014/MRMS_MergedBaseReflectivity_00.50_20201014-221023.grib2.gz to MergedBaseReflectivity_00.50/20201014/MRMS_MergedBaseReflectivity_00.50_20201014-221023.grib2.gz\n",
      "Downloaded CONUS/MergedBaseReflectivity_00.50/20201014/MRMS_MergedBaseReflectivity_00.50_20201014-221224.grib2.gz to MergedBaseReflectivity_00.50/20201014/MRMS_MergedBaseReflectivity_00.50_20201014-221224.grib2.gz\n",
      "Downloaded CONUS/MergedBaseReflectivity_00.50/20201014/MRMS_MergedBaseReflectivity_00.50_20201014-221412.grib2.gz to MergedBaseReflectivity_00.50/20201014/MRMS_MergedBaseReflectivity_00.50_20201014-221412.grib2.gz\n",
      "Downloaded CONUS/MergedBaseReflectivity_00.50/20201014/MRMS_MergedBaseReflectivity_00.50_20201014-221625.grib2.gz to MergedBaseReflectivity_00.50/20201014/MRMS_MergedBaseReflectivity_00.50_20201014-221625.grib2.gz\n",
      "Downloaded CONUS/MergedBaseReflectivity_00.50/20201014/MRMS_MergedBaseReflectivity_00.50_20201014-221821.grib2.gz to MergedBaseReflectivity_00.50/20201014/MRMS_MergedBaseReflectivity_00.50_20201014-221821.grib2.gz\n",
      "Downloaded CONUS/MergedBaseReflectivity_00.50/20201014/MRMS_MergedBaseReflectivity_00.50_20201014-222039.grib2.gz to MergedBaseReflectivity_00.50/20201014/MRMS_MergedBaseReflectivity_00.50_20201014-222039.grib2.gz\n",
      "Downloaded CONUS/MergedBaseReflectivity_00.50/20201014/MRMS_MergedBaseReflectivity_00.50_20201014-222222.grib2.gz to MergedBaseReflectivity_00.50/20201014/MRMS_MergedBaseReflectivity_00.50_20201014-222222.grib2.gz\n",
      "Downloaded CONUS/MergedBaseReflectivity_00.50/20201014/MRMS_MergedBaseReflectivity_00.50_20201014-222421.grib2.gz to MergedBaseReflectivity_00.50/20201014/MRMS_MergedBaseReflectivity_00.50_20201014-222421.grib2.gz\n",
      "Downloaded CONUS/MergedBaseReflectivity_00.50/20201014/MRMS_MergedBaseReflectivity_00.50_20201014-222605.grib2.gz to MergedBaseReflectivity_00.50/20201014/MRMS_MergedBaseReflectivity_00.50_20201014-222605.grib2.gz\n",
      "Downloaded CONUS/MergedBaseReflectivity_00.50/20201014/MRMS_MergedBaseReflectivity_00.50_20201014-222839.grib2.gz to MergedBaseReflectivity_00.50/20201014/MRMS_MergedBaseReflectivity_00.50_20201014-222839.grib2.gz\n",
      "Downloaded CONUS/MergedBaseReflectivity_00.50/20201014/MRMS_MergedBaseReflectivity_00.50_20201014-223018.grib2.gz to MergedBaseReflectivity_00.50/20201014/MRMS_MergedBaseReflectivity_00.50_20201014-223018.grib2.gz\n",
      "Downloaded CONUS/MergedBaseReflectivity_00.50/20201014/MRMS_MergedBaseReflectivity_00.50_20201014-223222.grib2.gz to MergedBaseReflectivity_00.50/20201014/MRMS_MergedBaseReflectivity_00.50_20201014-223222.grib2.gz\n",
      "Downloaded CONUS/MergedBaseReflectivity_00.50/20201014/MRMS_MergedBaseReflectivity_00.50_20201014-223419.grib2.gz to MergedBaseReflectivity_00.50/20201014/MRMS_MergedBaseReflectivity_00.50_20201014-223419.grib2.gz\n",
      "Downloaded CONUS/MergedBaseReflectivity_00.50/20201014/MRMS_MergedBaseReflectivity_00.50_20201014-223636.grib2.gz to MergedBaseReflectivity_00.50/20201014/MRMS_MergedBaseReflectivity_00.50_20201014-223636.grib2.gz\n",
      "Downloaded CONUS/MergedBaseReflectivity_00.50/20201014/MRMS_MergedBaseReflectivity_00.50_20201014-223836.grib2.gz to MergedBaseReflectivity_00.50/20201014/MRMS_MergedBaseReflectivity_00.50_20201014-223836.grib2.gz\n",
      "Downloaded CONUS/MergedBaseReflectivity_00.50/20201014/MRMS_MergedBaseReflectivity_00.50_20201014-224033.grib2.gz to MergedBaseReflectivity_00.50/20201014/MRMS_MergedBaseReflectivity_00.50_20201014-224033.grib2.gz\n",
      "Downloaded CONUS/MergedBaseReflectivity_00.50/20201014/MRMS_MergedBaseReflectivity_00.50_20201014-224237.grib2.gz to MergedBaseReflectivity_00.50/20201014/MRMS_MergedBaseReflectivity_00.50_20201014-224237.grib2.gz\n",
      "Downloaded CONUS/MergedBaseReflectivity_00.50/20201014/MRMS_MergedBaseReflectivity_00.50_20201014-224416.grib2.gz to MergedBaseReflectivity_00.50/20201014/MRMS_MergedBaseReflectivity_00.50_20201014-224416.grib2.gz\n",
      "Downloaded CONUS/MergedBaseReflectivity_00.50/20201014/MRMS_MergedBaseReflectivity_00.50_20201014-224638.grib2.gz to MergedBaseReflectivity_00.50/20201014/MRMS_MergedBaseReflectivity_00.50_20201014-224638.grib2.gz\n",
      "Downloaded CONUS/MergedBaseReflectivity_00.50/20201014/MRMS_MergedBaseReflectivity_00.50_20201014-224821.grib2.gz to MergedBaseReflectivity_00.50/20201014/MRMS_MergedBaseReflectivity_00.50_20201014-224821.grib2.gz\n",
      "Downloaded CONUS/MergedBaseReflectivity_00.50/20201014/MRMS_MergedBaseReflectivity_00.50_20201014-225026.grib2.gz to MergedBaseReflectivity_00.50/20201014/MRMS_MergedBaseReflectivity_00.50_20201014-225026.grib2.gz\n",
      "Downloaded CONUS/MergedBaseReflectivity_00.50/20201014/MRMS_MergedBaseReflectivity_00.50_20201014-225234.grib2.gz to MergedBaseReflectivity_00.50/20201014/MRMS_MergedBaseReflectivity_00.50_20201014-225234.grib2.gz\n",
      "Downloaded CONUS/MergedBaseReflectivity_00.50/20201014/MRMS_MergedBaseReflectivity_00.50_20201014-225421.grib2.gz to MergedBaseReflectivity_00.50/20201014/MRMS_MergedBaseReflectivity_00.50_20201014-225421.grib2.gz\n",
      "Downloaded CONUS/MergedBaseReflectivity_00.50/20201014/MRMS_MergedBaseReflectivity_00.50_20201014-225627.grib2.gz to MergedBaseReflectivity_00.50/20201014/MRMS_MergedBaseReflectivity_00.50_20201014-225627.grib2.gz\n",
      "Downloaded CONUS/MergedBaseReflectivity_00.50/20201014/MRMS_MergedBaseReflectivity_00.50_20201014-225826.grib2.gz to MergedBaseReflectivity_00.50/20201014/MRMS_MergedBaseReflectivity_00.50_20201014-225826.grib2.gz\n",
      "Downloaded CONUS/MergedBaseReflectivity_00.50/20201014/MRMS_MergedBaseReflectivity_00.50_20201014-230021.grib2.gz to MergedBaseReflectivity_00.50/20201014/MRMS_MergedBaseReflectivity_00.50_20201014-230021.grib2.gz\n",
      "Downloaded CONUS/MergedBaseReflectivity_00.50/20201014/MRMS_MergedBaseReflectivity_00.50_20201014-230217.grib2.gz to MergedBaseReflectivity_00.50/20201014/MRMS_MergedBaseReflectivity_00.50_20201014-230217.grib2.gz\n",
      "Downloaded CONUS/MergedBaseReflectivity_00.50/20201014/MRMS_MergedBaseReflectivity_00.50_20201014-230423.grib2.gz to MergedBaseReflectivity_00.50/20201014/MRMS_MergedBaseReflectivity_00.50_20201014-230423.grib2.gz\n",
      "Downloaded CONUS/MergedBaseReflectivity_00.50/20201014/MRMS_MergedBaseReflectivity_00.50_20201014-230640.grib2.gz to MergedBaseReflectivity_00.50/20201014/MRMS_MergedBaseReflectivity_00.50_20201014-230640.grib2.gz\n",
      "Downloaded CONUS/MergedBaseReflectivity_00.50/20201014/MRMS_MergedBaseReflectivity_00.50_20201014-230830.grib2.gz to MergedBaseReflectivity_00.50/20201014/MRMS_MergedBaseReflectivity_00.50_20201014-230830.grib2.gz\n",
      "Downloaded CONUS/MergedBaseReflectivity_00.50/20201014/MRMS_MergedBaseReflectivity_00.50_20201014-231013.grib2.gz to MergedBaseReflectivity_00.50/20201014/MRMS_MergedBaseReflectivity_00.50_20201014-231013.grib2.gz\n",
      "Downloaded CONUS/MergedBaseReflectivity_00.50/20201014/MRMS_MergedBaseReflectivity_00.50_20201014-231213.grib2.gz to MergedBaseReflectivity_00.50/20201014/MRMS_MergedBaseReflectivity_00.50_20201014-231213.grib2.gz\n",
      "Downloaded CONUS/MergedBaseReflectivity_00.50/20201014/MRMS_MergedBaseReflectivity_00.50_20201014-231420.grib2.gz to MergedBaseReflectivity_00.50/20201014/MRMS_MergedBaseReflectivity_00.50_20201014-231420.grib2.gz\n",
      "Downloaded CONUS/MergedBaseReflectivity_00.50/20201014/MRMS_MergedBaseReflectivity_00.50_20201014-231625.grib2.gz to MergedBaseReflectivity_00.50/20201014/MRMS_MergedBaseReflectivity_00.50_20201014-231625.grib2.gz\n",
      "Downloaded CONUS/MergedBaseReflectivity_00.50/20201014/MRMS_MergedBaseReflectivity_00.50_20201014-231816.grib2.gz to MergedBaseReflectivity_00.50/20201014/MRMS_MergedBaseReflectivity_00.50_20201014-231816.grib2.gz\n",
      "Downloaded CONUS/MergedBaseReflectivity_00.50/20201014/MRMS_MergedBaseReflectivity_00.50_20201014-232026.grib2.gz to MergedBaseReflectivity_00.50/20201014/MRMS_MergedBaseReflectivity_00.50_20201014-232026.grib2.gz\n",
      "Downloaded CONUS/MergedBaseReflectivity_00.50/20201014/MRMS_MergedBaseReflectivity_00.50_20201014-232223.grib2.gz to MergedBaseReflectivity_00.50/20201014/MRMS_MergedBaseReflectivity_00.50_20201014-232223.grib2.gz\n",
      "Downloaded CONUS/MergedBaseReflectivity_00.50/20201014/MRMS_MergedBaseReflectivity_00.50_20201014-232417.grib2.gz to MergedBaseReflectivity_00.50/20201014/MRMS_MergedBaseReflectivity_00.50_20201014-232417.grib2.gz\n",
      "Downloaded CONUS/MergedBaseReflectivity_00.50/20201014/MRMS_MergedBaseReflectivity_00.50_20201014-232611.grib2.gz to MergedBaseReflectivity_00.50/20201014/MRMS_MergedBaseReflectivity_00.50_20201014-232611.grib2.gz\n",
      "Downloaded CONUS/MergedBaseReflectivity_00.50/20201014/MRMS_MergedBaseReflectivity_00.50_20201014-232754.grib2.gz to MergedBaseReflectivity_00.50/20201014/MRMS_MergedBaseReflectivity_00.50_20201014-232754.grib2.gz\n",
      "Downloaded CONUS/MergedBaseReflectivity_00.50/20201014/MRMS_MergedBaseReflectivity_00.50_20201014-233030.grib2.gz to MergedBaseReflectivity_00.50/20201014/MRMS_MergedBaseReflectivity_00.50_20201014-233030.grib2.gz\n",
      "Downloaded CONUS/MergedBaseReflectivity_00.50/20201014/MRMS_MergedBaseReflectivity_00.50_20201014-233221.grib2.gz to MergedBaseReflectivity_00.50/20201014/MRMS_MergedBaseReflectivity_00.50_20201014-233221.grib2.gz\n",
      "Downloaded CONUS/MergedBaseReflectivity_00.50/20201014/MRMS_MergedBaseReflectivity_00.50_20201014-233421.grib2.gz to MergedBaseReflectivity_00.50/20201014/MRMS_MergedBaseReflectivity_00.50_20201014-233421.grib2.gz\n",
      "Downloaded CONUS/MergedBaseReflectivity_00.50/20201014/MRMS_MergedBaseReflectivity_00.50_20201014-233612.grib2.gz to MergedBaseReflectivity_00.50/20201014/MRMS_MergedBaseReflectivity_00.50_20201014-233612.grib2.gz\n",
      "Downloaded CONUS/MergedBaseReflectivity_00.50/20201014/MRMS_MergedBaseReflectivity_00.50_20201014-233829.grib2.gz to MergedBaseReflectivity_00.50/20201014/MRMS_MergedBaseReflectivity_00.50_20201014-233829.grib2.gz\n",
      "Downloaded CONUS/MergedBaseReflectivity_00.50/20201014/MRMS_MergedBaseReflectivity_00.50_20201014-234021.grib2.gz to MergedBaseReflectivity_00.50/20201014/MRMS_MergedBaseReflectivity_00.50_20201014-234021.grib2.gz\n",
      "Downloaded CONUS/MergedBaseReflectivity_00.50/20201014/MRMS_MergedBaseReflectivity_00.50_20201014-234227.grib2.gz to MergedBaseReflectivity_00.50/20201014/MRMS_MergedBaseReflectivity_00.50_20201014-234227.grib2.gz\n",
      "Downloaded CONUS/MergedBaseReflectivity_00.50/20201014/MRMS_MergedBaseReflectivity_00.50_20201014-234416.grib2.gz to MergedBaseReflectivity_00.50/20201014/MRMS_MergedBaseReflectivity_00.50_20201014-234416.grib2.gz\n",
      "Downloaded CONUS/MergedBaseReflectivity_00.50/20201014/MRMS_MergedBaseReflectivity_00.50_20201014-234620.grib2.gz to MergedBaseReflectivity_00.50/20201014/MRMS_MergedBaseReflectivity_00.50_20201014-234620.grib2.gz\n",
      "Downloaded CONUS/MergedBaseReflectivity_00.50/20201014/MRMS_MergedBaseReflectivity_00.50_20201014-234813.grib2.gz to MergedBaseReflectivity_00.50/20201014/MRMS_MergedBaseReflectivity_00.50_20201014-234813.grib2.gz\n",
      "Downloaded CONUS/MergedBaseReflectivity_00.50/20201014/MRMS_MergedBaseReflectivity_00.50_20201014-235027.grib2.gz to MergedBaseReflectivity_00.50/20201014/MRMS_MergedBaseReflectivity_00.50_20201014-235027.grib2.gz\n",
      "Downloaded CONUS/MergedBaseReflectivity_00.50/20201014/MRMS_MergedBaseReflectivity_00.50_20201014-235221.grib2.gz to MergedBaseReflectivity_00.50/20201014/MRMS_MergedBaseReflectivity_00.50_20201014-235221.grib2.gz\n",
      "Downloaded CONUS/MergedBaseReflectivity_00.50/20201014/MRMS_MergedBaseReflectivity_00.50_20201014-235410.grib2.gz to MergedBaseReflectivity_00.50/20201014/MRMS_MergedBaseReflectivity_00.50_20201014-235410.grib2.gz\n",
      "Downloaded CONUS/MergedBaseReflectivity_00.50/20201014/MRMS_MergedBaseReflectivity_00.50_20201014-235610.grib2.gz to MergedBaseReflectivity_00.50/20201014/MRMS_MergedBaseReflectivity_00.50_20201014-235610.grib2.gz\n",
      "Downloaded CONUS/MergedBaseReflectivity_00.50/20201014/MRMS_MergedBaseReflectivity_00.50_20201014-235806.grib2.gz to MergedBaseReflectivity_00.50/20201014/MRMS_MergedBaseReflectivity_00.50_20201014-235806.grib2.gz\n",
      "Completed downloading files for MergedBaseReflectivity_00.50 on 20201014.\n",
      "\n"
     ]
    }
   ],
   "source": [
    "# Download files for the specified date range and data type\n",
    "# one file -> 1-2s\n",
    "download_files_in_date_range(bucket_name, data_type, start_date_str, end_date_str)"
   ]
  }
 ],
 "metadata": {
  "kernelspec": {
   "display_name": "cartopy-dev",
   "language": "python",
   "name": "python3"
  },
  "language_info": {
   "codemirror_mode": {
    "name": "ipython",
    "version": 3
   },
   "file_extension": ".py",
   "mimetype": "text/x-python",
   "name": "python",
   "nbconvert_exporter": "python",
   "pygments_lexer": "ipython3",
   "version": "3.12.1"
  }
 },
 "nbformat": 4,
 "nbformat_minor": 2
}
